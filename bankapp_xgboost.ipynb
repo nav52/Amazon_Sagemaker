{
 "cells": [
  {
   "cell_type": "markdown",
   "id": "81894602",
   "metadata": {},
   "source": [
    "## Steps\n",
    "1. Import libraries\n",
    "2. Create s3 bucket\n",
    "3. Map train and test data in s3\n",
    "4. Map the path of models in s3"
   ]
  },
  {
   "cell_type": "markdown",
   "id": "212603fc",
   "metadata": {},
   "source": [
    "### Import libraries"
   ]
  },
  {
   "cell_type": "code",
   "execution_count": 1,
   "id": "31060dfe",
   "metadata": {},
   "outputs": [],
   "source": [
    "import sagemaker\n",
    "import boto3   ## For creating and accessing s3 buckets\n",
    "from sagemaker.session import s3_input, Session\n",
    "from sagemaker.serializers import CSVSerializer\n",
    "\n",
    "import pandas as pd\n",
    "import numpy as np\n",
    "import urllib\n",
    "import os"
   ]
  },
  {
   "cell_type": "markdown",
   "id": "dd20cc9b",
   "metadata": {},
   "source": [
    "### s3 Bucket creation"
   ]
  },
  {
   "cell_type": "code",
   "execution_count": 2,
   "id": "d6376f92",
   "metadata": {},
   "outputs": [
    {
     "name": "stdout",
     "output_type": "stream",
     "text": [
      "us-west-2\n"
     ]
    }
   ],
   "source": [
    "bucket_name = 'bankapplication71625347'\n",
    "my_region = boto3.session.Session().region_name # To know the region to create s3 bucket in the same region\n",
    "print(my_region)"
   ]
  },
  {
   "cell_type": "code",
   "execution_count": 3,
   "id": "cca1a311",
   "metadata": {},
   "outputs": [
    {
     "name": "stdout",
     "output_type": "stream",
     "text": [
      "s3 bucket created successfully!!\n"
     ]
    }
   ],
   "source": [
    "s3 = boto3.resource('s3')\n",
    "try:\n",
    "    if my_region == 'us-west-2':\n",
    "        location = {'LocationConstraint': my_region}   # Needed for locations other than us-east-1\n",
    "        s3.create_bucket(Bucket=bucket_name,CreateBucketConfiguration = location)\n",
    "    print('s3 bucket created successfully!!')\n",
    "except Exception as e:\n",
    "    print('s3 creation error: ', e)"
   ]
  },
  {
   "cell_type": "code",
   "execution_count": 4,
   "id": "ead9f3c4",
   "metadata": {},
   "outputs": [
    {
     "name": "stdout",
     "output_type": "stream",
     "text": [
      "s3://bankapplication71625347/xgboost-as-a-built-in-algo/output\n"
     ]
    }
   ],
   "source": [
    "# set output path for model\n",
    "prefix = 'xgboost-as-a-built-in-algo'\n",
    "output_path = 's3://{}/{}/output'.format(bucket_name, prefix)\n",
    "print(output_path)"
   ]
  },
  {
   "cell_type": "markdown",
   "id": "68af8c87",
   "metadata": {},
   "source": [
    "### Get Data, Split into train and test data, upload to s3 bucket"
   ]
  },
  {
   "cell_type": "code",
   "execution_count": 5,
   "id": "12e8d03a",
   "metadata": {},
   "outputs": [
    {
     "name": "stdout",
     "output_type": "stream",
     "text": [
      "Success!! Data download complete\n",
      "Success: Data loaded into dataframe\n"
     ]
    }
   ],
   "source": [
    "# Get the data\n",
    "try:\n",
    "    urllib.request.urlretrieve(\"https://d1.awsstatic.com/tmt/build-train-deploy-machine-learning-model-sagemaker/bank_clean.27f01fbbdf43271788427f3682996ae29ceca05d.csv\", \"bank_clean_data.csv\")\n",
    "    print('Success!! Data download complete')\n",
    "except Exception as e:\n",
    "    print('Data load error: ',e)\n",
    "try:\n",
    "    model_data = pd.read_csv('./bank_clean_data.csv',index_col=0)\n",
    "    print('Success: Data loaded into dataframe')\n",
    "except Exception as e:\n",
    "    print('Data load error: ',e)"
   ]
  },
  {
   "cell_type": "code",
   "execution_count": 6,
   "id": "5a3cfe03",
   "metadata": {},
   "outputs": [
    {
     "name": "stdout",
     "output_type": "stream",
     "text": [
      "(28831, 61) (12357, 61)\n"
     ]
    }
   ],
   "source": [
    "# Split data into test and train data\n",
    "train_data, test_data = np.split(model_data.sample(frac=1, random_state=1625), [int(0.7*len(model_data))])\n",
    "print(train_data.shape, test_data.shape)"
   ]
  },
  {
   "cell_type": "code",
   "execution_count": 7,
   "id": "8230de87",
   "metadata": {},
   "outputs": [],
   "source": [
    "# Save train and test data into buckets\n",
    "# First the train data\n",
    "pd.concat([train_data['y_yes'], train_data.drop(['y_no', 'y_yes'], axis=1)], axis=1).to_csv('train.csv', index=False, header=False)\n",
    "boto3.Session().resource('s3').Bucket(bucket_name).Object(os.path.join(prefix, 'train/train.csv')).upload_file('train.csv')\n",
    "s3_input_train = sagemaker.inputs.TrainingInput(s3_data = 's3://{}/{}/train'.format(bucket_name, prefix),content_type='csv')"
   ]
  },
  {
   "cell_type": "code",
   "execution_count": 8,
   "id": "a9529799",
   "metadata": {},
   "outputs": [],
   "source": [
    "# Now, the test data\n",
    "pd.concat([test_data['y_yes'], test_data.drop(['y_no','y_yes'], axis=1)], axis=1).to_csv('test.csv', index=False, header=False)\n",
    "boto3.Session().resource('s3').Bucket(bucket_name).Object(os.path.join(prefix, 'test/test.csv')).upload_file('test.csv')\n",
    "s3_input_test = sagemaker.inputs.TrainingInput(s3_data = 's3://{}/{}/test'.format(bucket_name, prefix), content_type='csv')"
   ]
  },
  {
   "cell_type": "markdown",
   "id": "466c77a6",
   "metadata": {},
   "source": [
    "### Building and training xGBoost in-built algorithm"
   ]
  },
  {
   "cell_type": "code",
   "execution_count": 9,
   "id": "af54d658",
   "metadata": {},
   "outputs": [
    {
     "name": "stdout",
     "output_type": "stream",
     "text": [
      "246618743249.dkr.ecr.us-west-2.amazonaws.com/sagemaker-xgboost:1.2-1\n"
     ]
    }
   ],
   "source": [
    "# automatically looks for the XGBoost image URI and builds an XGBoost container.\n",
    "container = sagemaker.image_uris.retrieve('xgboost',\n",
    "                          boto3.Session().region_name, \n",
    "                          version='1.2-1')\n",
    "print(container)"
   ]
  },
  {
   "cell_type": "code",
   "execution_count": 10,
   "id": "395b0032",
   "metadata": {},
   "outputs": [],
   "source": [
    "# hyperparams\n",
    "# initialize hyperparameters\n",
    "hyperparameters = {\n",
    "        \"max_depth\":\"5\",\n",
    "        \"eta\":\"0.2\",\n",
    "        \"gamma\":\"4\",\n",
    "        \"min_child_weight\":\"6\",\n",
    "        \"subsample\":\"0.7\",\n",
    "        \"objective\":\"binary:logistic\",\n",
    "        \"num_round\":50\n",
    "        }"
   ]
  },
  {
   "cell_type": "code",
   "execution_count": 11,
   "id": "efa1bfaa",
   "metadata": {},
   "outputs": [],
   "source": [
    "# construct a SageMaker estimator that calls the xgboost-container\n",
    "estimator = sagemaker.estimator.Estimator(image_uri=container, \n",
    "                                          hyperparameters=hyperparameters,\n",
    "                                          role=sagemaker.get_execution_role(),\n",
    "                                          instance_count=1, \n",
    "                                          instance_type='ml.m5.2xlarge', \n",
    "                                          volume_size=5, # 5 GB \n",
    "                                          output_path=output_path,\n",
    "                                          use_spot_instances=True,\n",
    "                                          max_run=300,\n",
    "                                          max_wait=600)\n",
    "\n",
    "# use_spot_instances, max_wait are crucial parameters to keep tabs on billing."
   ]
  },
  {
   "cell_type": "code",
   "execution_count": 12,
   "id": "56b98566",
   "metadata": {},
   "outputs": [
    {
     "name": "stdout",
     "output_type": "stream",
     "text": [
      "2022-03-24 06:39:54 Starting - Starting the training job...\n",
      "2022-03-24 06:40:18 Starting - Launching requested ML instancesProfilerReport-1648103994: InProgress\n",
      ".........\n",
      "2022-03-24 06:41:39 Starting - Preparing the instances for training...\n",
      "2022-03-24 06:42:24 Downloading - Downloading input data...\n",
      "2022-03-24 06:42:39 Training - Downloading the training image...\n",
      "2022-03-24 06:43:21 Uploading - Uploading generated training model\u001b[34m[2022-03-24 06:43:17.019 ip-10-0-92-119.us-west-2.compute.internal:1 INFO utils.py:27] RULE_JOB_STOP_SIGNAL_FILENAME: None\u001b[0m\n",
      "\u001b[34mINFO:sagemaker-containers:Imported framework sagemaker_xgboost_container.training\u001b[0m\n",
      "\u001b[34mINFO:sagemaker-containers:Failed to parse hyperparameter objective value binary:logistic to Json.\u001b[0m\n",
      "\u001b[34mReturning the value itself\u001b[0m\n",
      "\u001b[34mINFO:sagemaker-containers:No GPUs detected (normal if no gpus installed)\u001b[0m\n",
      "\u001b[34mINFO:sagemaker_xgboost_container.training:Running XGBoost Sagemaker in algorithm mode\u001b[0m\n",
      "\u001b[34mINFO:root:Determined delimiter of CSV input is ','\u001b[0m\n",
      "\u001b[34mINFO:root:Determined delimiter of CSV input is ','\u001b[0m\n",
      "\u001b[34mINFO:root:Determined delimiter of CSV input is ','\u001b[0m\n",
      "\u001b[34mINFO:root:Determined delimiter of CSV input is ','\u001b[0m\n",
      "\u001b[34mINFO:root:Single node training.\u001b[0m\n",
      "\u001b[34mINFO:root:Train matrix has 28831 rows and 59 columns\u001b[0m\n",
      "\u001b[34mINFO:root:Validation matrix has 12357 rows\u001b[0m\n",
      "\u001b[34m[0]#011train-error:0.10232#011validation-error:0.09994\u001b[0m\n",
      "\u001b[34m[1]#011train-error:0.10149#011validation-error:0.09938\u001b[0m\n",
      "\u001b[34m[2]#011train-error:0.10201#011validation-error:0.09938\u001b[0m\n",
      "\u001b[34m[3]#011train-error:0.10215#011validation-error:0.09954\u001b[0m\n",
      "\u001b[34m[4]#011train-error:0.10180#011validation-error:0.09913\u001b[0m\n",
      "\u001b[34m[5]#011train-error:0.10180#011validation-error:0.09897\u001b[0m\n",
      "\u001b[34m[6]#011train-error:0.10135#011validation-error:0.09873\u001b[0m\n",
      "\u001b[34m[7]#011train-error:0.10114#011validation-error:0.09881\u001b[0m\n",
      "\u001b[34m[8]#011train-error:0.10118#011validation-error:0.09873\u001b[0m\n",
      "\u001b[34m[9]#011train-error:0.10142#011validation-error:0.09905\u001b[0m\n",
      "\u001b[34m[10]#011train-error:0.10121#011validation-error:0.09938\u001b[0m\n",
      "\u001b[34m[11]#011train-error:0.10125#011validation-error:0.09962\u001b[0m\n",
      "\u001b[34m[12]#011train-error:0.10132#011validation-error:0.09970\u001b[0m\n",
      "\u001b[34m[13]#011train-error:0.10132#011validation-error:0.09970\u001b[0m\n",
      "\u001b[34m[14]#011train-error:0.10132#011validation-error:0.09970\u001b[0m\n",
      "\u001b[34m[15]#011train-error:0.10135#011validation-error:0.09978\u001b[0m\n",
      "\u001b[34m[16]#011train-error:0.10125#011validation-error:0.10002\u001b[0m\n",
      "\u001b[34m[17]#011train-error:0.10100#011validation-error:0.09954\u001b[0m\n",
      "\u001b[34m[18]#011train-error:0.10090#011validation-error:0.09938\u001b[0m\n",
      "\u001b[34m[19]#011train-error:0.10093#011validation-error:0.09913\u001b[0m\n",
      "\u001b[34m[20]#011train-error:0.10107#011validation-error:0.09970\u001b[0m\n",
      "\u001b[34m[21]#011train-error:0.10118#011validation-error:0.09946\u001b[0m\n",
      "\u001b[34m[22]#011train-error:0.10097#011validation-error:0.09913\u001b[0m\n",
      "\u001b[34m[23]#011train-error:0.10083#011validation-error:0.09873\u001b[0m\n",
      "\u001b[34m[24]#011train-error:0.10093#011validation-error:0.09913\u001b[0m\n",
      "\u001b[34m[25]#011train-error:0.10086#011validation-error:0.09930\u001b[0m\n",
      "\u001b[34m[26]#011train-error:0.10097#011validation-error:0.09938\u001b[0m\n",
      "\u001b[34m[27]#011train-error:0.10086#011validation-error:0.09970\u001b[0m\n",
      "\u001b[34m[28]#011train-error:0.10079#011validation-error:0.09970\u001b[0m\n",
      "\u001b[34m[29]#011train-error:0.10076#011validation-error:0.09962\u001b[0m\n",
      "\u001b[34m[30]#011train-error:0.10038#011validation-error:0.09954\u001b[0m\n",
      "\u001b[34m[31]#011train-error:0.10021#011validation-error:0.09930\u001b[0m\n",
      "\u001b[34m[32]#011train-error:0.10007#011validation-error:0.09962\u001b[0m\n",
      "\u001b[34m[33]#011train-error:0.09996#011validation-error:0.09946\u001b[0m\n",
      "\u001b[34m[34]#011train-error:0.09968#011validation-error:0.09978\u001b[0m\n",
      "\u001b[34m[35]#011train-error:0.09972#011validation-error:0.09946\u001b[0m\n",
      "\u001b[34m[36]#011train-error:0.09975#011validation-error:0.09954\u001b[0m\n",
      "\u001b[34m[37]#011train-error:0.09951#011validation-error:0.09938\u001b[0m\n",
      "\u001b[34m[38]#011train-error:0.09948#011validation-error:0.09905\u001b[0m\n",
      "\u001b[34m[39]#011train-error:0.09930#011validation-error:0.09905\u001b[0m\n",
      "\u001b[34m[40]#011train-error:0.09961#011validation-error:0.09905\u001b[0m\n",
      "\u001b[34m[41]#011train-error:0.09961#011validation-error:0.09897\u001b[0m\n",
      "\u001b[34m[42]#011train-error:0.09961#011validation-error:0.09913\u001b[0m\n",
      "\u001b[34m[43]#011train-error:0.09944#011validation-error:0.09930\u001b[0m\n",
      "\u001b[34m[44]#011train-error:0.09958#011validation-error:0.09930\u001b[0m\n",
      "\u001b[34m[45]#011train-error:0.09955#011validation-error:0.09938\u001b[0m\n",
      "\u001b[34m[46]#011train-error:0.09941#011validation-error:0.09921\u001b[0m\n",
      "\u001b[34m[47]#011train-error:0.09951#011validation-error:0.09930\u001b[0m\n",
      "\u001b[34m[48]#011train-error:0.09927#011validation-error:0.09946\u001b[0m\n",
      "\u001b[34m[49]#011train-error:0.09896#011validation-error:0.09954\u001b[0m\n",
      "\n",
      "2022-03-24 06:43:39 Completed - Training job completed\n",
      "Training seconds: 65\n",
      "Billable seconds: 26\n",
      "Managed Spot Training savings: 60.0%\n"
     ]
    }
   ],
   "source": [
    "estimator.fit({'train':s3_input_train, 'validation':s3_input_test})"
   ]
  },
  {
   "cell_type": "markdown",
   "id": "22122bcd",
   "metadata": {},
   "source": [
    "### Deploy model"
   ]
  },
  {
   "cell_type": "code",
   "execution_count": 13,
   "id": "014315bd",
   "metadata": {},
   "outputs": [
    {
     "name": "stdout",
     "output_type": "stream",
     "text": [
      "--------!"
     ]
    }
   ],
   "source": [
    "xgb_predictor = estimator.deploy(initial_instance_count=1, instance_type='ml.m4.xlarge')"
   ]
  },
  {
   "cell_type": "markdown",
   "id": "ac716562",
   "metadata": {},
   "source": [
    "### Prediction of test data"
   ]
  },
  {
   "cell_type": "code",
   "execution_count": 14,
   "id": "efc2887b",
   "metadata": {
    "scrolled": false
   },
   "outputs": [
    {
     "name": "stdout",
     "output_type": "stream",
     "text": [
      "(12357,)\n"
     ]
    }
   ],
   "source": [
    "test_data_array = test_data.drop(['y_no', 'y_yes'], axis=1).values #load the data into an array\n",
    "xgb_predictor.serializer = CSVSerializer() # set the serializer type\n",
    "predictions = xgb_predictor.predict(test_data_array).decode('utf-8') # predict!\n",
    "predictions_array = np.fromstring(predictions[1:], sep=',') # and turn the prediction into an array\n",
    "print(predictions_array.shape)"
   ]
  },
  {
   "cell_type": "code",
   "execution_count": 15,
   "id": "be194469",
   "metadata": {},
   "outputs": [
    {
     "name": "stdout",
     "output_type": "stream",
     "text": [
      "\n",
      "Overall Classification Rate: 90.0%\n",
      "\n",
      "Predicted      No Purchase    Purchase\n",
      "Observed\n",
      "No Purchase    91% (10828)    36% (165)\n",
      "Purchase        9% (1065)     64% (299) \n",
      "\n"
     ]
    }
   ],
   "source": [
    "cm = pd.crosstab(index=test_data['y_yes'], columns=np.round(predictions_array), rownames=['Observed'], colnames=['Predicted'])\n",
    "tn = cm.iloc[0,0]; fn = cm.iloc[1,0]; tp = cm.iloc[1,1]; fp = cm.iloc[0,1]; p = (tp+tn)/(tp+tn+fp+fn)*100\n",
    "print(\"\\n{0:<20}{1:<4.1f}%\\n\".format(\"Overall Classification Rate: \", p))\n",
    "print(\"{0:<15}{1:<15}{2:>8}\".format(\"Predicted\", \"No Purchase\", \"Purchase\"))\n",
    "print(\"Observed\")\n",
    "print(\"{0:<15}{1:<2.0f}% ({2:<}){3:>6.0f}% ({4:<})\".format(\"No Purchase\", tn/(tn+fn)*100,tn, fp/(tp+fp)*100, fp))\n",
    "print(\"{0:<16}{1:<1.0f}% ({2:<}){3:>7.0f}% ({4:<}) \\n\".format(\"Purchase\", fn/(tn+fn)*100,fn, tp/(tp+fp)*100, tp))"
   ]
  },
  {
   "cell_type": "markdown",
   "id": "11787c82",
   "metadata": {},
   "source": [
    "### Deleting endpoints"
   ]
  },
  {
   "cell_type": "code",
   "execution_count": 16,
   "id": "e0aa040f",
   "metadata": {},
   "outputs": [
    {
     "name": "stderr",
     "output_type": "stream",
     "text": [
      "The endpoint attribute has been renamed in sagemaker>=2.\n",
      "See: https://sagemaker.readthedocs.io/en/stable/v2.html for details.\n"
     ]
    },
    {
     "data": {
      "text/plain": [
       "[{'ResponseMetadata': {'RequestId': 'BT7YVBJ463TPXCY9',\n",
       "   'HostId': 'vzQzp4WPo517yKoAaTjLFKjeYHP9+Ra+OKrgWhmpLY3E+LLfvO34+mFvCsWtAs44W/iABZ8BxAk=',\n",
       "   'HTTPStatusCode': 200,\n",
       "   'HTTPHeaders': {'x-amz-id-2': 'vzQzp4WPo517yKoAaTjLFKjeYHP9+Ra+OKrgWhmpLY3E+LLfvO34+mFvCsWtAs44W/iABZ8BxAk=',\n",
       "    'x-amz-request-id': 'BT7YVBJ463TPXCY9',\n",
       "    'date': 'Thu, 24 Mar 2022 06:48:38 GMT',\n",
       "    'content-type': 'application/xml',\n",
       "    'transfer-encoding': 'chunked',\n",
       "    'server': 'AmazonS3',\n",
       "    'connection': 'close'},\n",
       "   'RetryAttempts': 0},\n",
       "  'Deleted': [{'Key': 'xgboost-as-a-built-in-algo/output/sagemaker-xgboost-2022-03-24-06-39-54-078/rule-output/ProfilerReport-1648103994/profiler-output/profiler-report.html'},\n",
       "   {'Key': 'xgboost-as-a-built-in-algo/output/sagemaker-xgboost-2022-03-24-06-39-54-078/profiler-output/system/incremental/2022032406/1648104180.algo-1.json'},\n",
       "   {'Key': 'xgboost-as-a-built-in-algo/output/sagemaker-xgboost-2022-03-24-06-39-54-078/rule-output/ProfilerReport-1648103994/profiler-output/profiler-reports/BatchSize.json'},\n",
       "   {'Key': 'xgboost-as-a-built-in-algo/output/sagemaker-xgboost-2022-03-24-06-39-54-078/profiler-output/system/incremental/2022032406/1648104120.algo-1.json'},\n",
       "   {'Key': 'xgboost-as-a-built-in-algo/output/sagemaker-xgboost-2022-03-24-06-39-54-078/rule-output/ProfilerReport-1648103994/profiler-output/profiler-reports/IOBottleneck.json'},\n",
       "   {'Key': 'xgboost-as-a-built-in-algo/output/sagemaker-xgboost-2022-03-24-06-39-54-078/rule-output/ProfilerReport-1648103994/profiler-output/profiler-reports/LoadBalancing.json'},\n",
       "   {'Key': 'xgboost-as-a-built-in-algo/output/sagemaker-xgboost-2022-03-24-06-39-54-078/rule-output/ProfilerReport-1648103994/profiler-output/profiler-reports/OverallSystemUsage.json'},\n",
       "   {'Key': 'xgboost-as-a-built-in-algo/output/sagemaker-xgboost-2022-03-24-06-39-54-078/rule-output/ProfilerReport-1648103994/profiler-output/profiler-reports/OverallFrameworkMetrics.json'},\n",
       "   {'Key': 'xgboost-as-a-built-in-algo/output/sagemaker-xgboost-2022-03-24-06-39-54-078/rule-output/ProfilerReport-1648103994/profiler-output/profiler-reports/LowGPUUtilization.json'},\n",
       "   {'Key': 'xgboost-as-a-built-in-algo/output/sagemaker-xgboost-2022-03-24-06-39-54-078/profiler-output/system/training_job_end.ts'},\n",
       "   {'Key': 'xgboost-as-a-built-in-algo/output/sagemaker-xgboost-2022-03-24-06-39-54-078/rule-output/ProfilerReport-1648103994/profiler-output/profiler-reports/MaxInitializationTime.json'},\n",
       "   {'Key': 'xgboost-as-a-built-in-algo/output/sagemaker-xgboost-2022-03-24-06-39-54-078/rule-output/ProfilerReport-1648103994/profiler-output/profiler-reports/GPUMemoryIncrease.json'},\n",
       "   {'Key': 'xgboost-as-a-built-in-algo/output/sagemaker-xgboost-2022-03-24-06-39-54-078/rule-output/ProfilerReport-1648103994/profiler-output/profiler-report.ipynb'},\n",
       "   {'Key': 'xgboost-as-a-built-in-algo/output/sagemaker-xgboost-2022-03-24-06-39-54-078/output/model.tar.gz'},\n",
       "   {'Key': 'xgboost-as-a-built-in-algo/output/sagemaker-xgboost-2022-03-24-06-39-54-078/rule-output/ProfilerReport-1648103994/profiler-output/profiler-reports/CPUBottleneck.json'},\n",
       "   {'Key': 'xgboost-as-a-built-in-algo/output/sagemaker-xgboost-2022-03-24-06-39-54-078/profiler-output/framework/training_job_end.ts'},\n",
       "   {'Key': 'xgboost-as-a-built-in-algo/output/sagemaker-xgboost-2022-03-24-06-39-54-078/rule-output/ProfilerReport-1648103994/profiler-output/profiler-reports/Dataloader.json'},\n",
       "   {'Key': 'xgboost-as-a-built-in-algo/test/test.csv'},\n",
       "   {'Key': 'xgboost-as-a-built-in-algo/train/train.csv'},\n",
       "   {'Key': 'xgboost-as-a-built-in-algo/output/sagemaker-xgboost-2022-03-24-06-39-54-078/rule-output/ProfilerReport-1648103994/profiler-output/profiler-reports/StepOutlier.json'}]}]"
      ]
     },
     "execution_count": 16,
     "metadata": {},
     "output_type": "execute_result"
    }
   ],
   "source": [
    "sagemaker.Session().delete_endpoint(xgb_predictor.endpoint)\n",
    "bucket_to_delete = boto3.resource('s3').Bucket(bucket_name)\n",
    "bucket_to_delete.objects.all().delete()"
   ]
  },
  {
   "cell_type": "code",
   "execution_count": null,
   "id": "f9d220c5",
   "metadata": {},
   "outputs": [],
   "source": []
  }
 ],
 "metadata": {
  "kernelspec": {
   "display_name": "conda_python3",
   "language": "python",
   "name": "conda_python3"
  },
  "language_info": {
   "codemirror_mode": {
    "name": "ipython",
    "version": 3
   },
   "file_extension": ".py",
   "mimetype": "text/x-python",
   "name": "python",
   "nbconvert_exporter": "python",
   "pygments_lexer": "ipython3",
   "version": "3.6.13"
  }
 },
 "nbformat": 4,
 "nbformat_minor": 5
}
